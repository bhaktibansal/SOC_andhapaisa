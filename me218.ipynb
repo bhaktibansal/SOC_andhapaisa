{
  "nbformat": 4,
  "nbformat_minor": 0,
  "metadata": {
    "colab": {
      "provenance": [],
      "authorship_tag": "ABX9TyMaYu9Gc8MgnBldINAZRsUs",
      "include_colab_link": true
    },
    "kernelspec": {
      "name": "python3",
      "display_name": "Python 3"
    },
    "language_info": {
      "name": "python"
    }
  },
  "cells": [
    {
      "cell_type": "markdown",
      "metadata": {
        "id": "view-in-github",
        "colab_type": "text"
      },
      "source": [
        "<a href=\"https://colab.research.google.com/github/bhaktibansal/SOC_andhapaisa/blob/main/me218.ipynb\" target=\"_parent\"><img src=\"https://colab.research.google.com/assets/colab-badge.svg\" alt=\"Open In Colab\"/></a>"
      ]
    },
    {
      "cell_type": "code",
      "execution_count": 2,
      "metadata": {
        "colab": {
          "base_uri": "https://localhost:8080/",
          "height": 0
        },
        "id": "RIa3wwbdYn3x",
        "outputId": "49455e54-ba26-4dc4-9f06-6ce7250efd31"
      },
      "outputs": [
        {
          "output_type": "execute_result",
          "data": {
            "text/plain": [
              "{'1 µm': 0.0004816204143646409,\n",
              " '10 µm': 0.04816204143646409,\n",
              " '50 µm': 1.2040510359116023}"
            ]
          },
          "metadata": {},
          "execution_count": 2
        }
      ],
      "source": [
        "rho_p = 4000 #kg/m3; density of iron powder\n",
        "rho_f = 1.225 #density of air\n",
        "g = 9.81 #m/s2; gravitational acceleration\n",
        "mu = 1.81e-5 #Pa*s; dynamic viscosity of air\n",
        "\n",
        "particle_sizes = [1e-6, 10e-6, 50e-6] #particle diameters in meters\n",
        "\n",
        "terminal_velocities = [\n",
        "    (2/9)*((rho_p - rho_f)*g*d**2)/mu for d in particle_sizes\n",
        "    ]\n",
        "\n",
        "#results\n",
        "dict(zip([\"1 µm\", \"10 µm\", \"50 µm\"], terminal_velocities))"
      ]
    }
  ]
}